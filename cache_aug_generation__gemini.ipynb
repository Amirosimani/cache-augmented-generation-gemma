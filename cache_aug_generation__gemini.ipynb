{
  "nbformat": 4,
  "nbformat_minor": 0,
  "metadata": {
    "colab": {
      "provenance": [],
      "gpuType": "T4",
      "authorship_tag": "ABX9TyN+G7eTxYj/VbZQpjFxCVOi",
      "include_colab_link": true
    },
    "kernelspec": {
      "name": "python3",
      "display_name": "Python 3"
    },
    "language_info": {
      "name": "python"
    },
    "accelerator": "GPU",
    "widgets": {
      "application/vnd.jupyter.widget-state+json": {
        "03ddc66dced341e5afb5eeb33a16df76": {
          "model_module": "@jupyter-widgets/controls",
          "model_name": "HBoxModel",
          "model_module_version": "1.5.0",
          "state": {
            "_dom_classes": [],
            "_model_module": "@jupyter-widgets/controls",
            "_model_module_version": "1.5.0",
            "_model_name": "HBoxModel",
            "_view_count": null,
            "_view_module": "@jupyter-widgets/controls",
            "_view_module_version": "1.5.0",
            "_view_name": "HBoxView",
            "box_style": "",
            "children": [
              "IPY_MODEL_8ff32283d9a64cf8a690c633119ace4c",
              "IPY_MODEL_0b5d199c3e5847b7b9f2457198def09a",
              "IPY_MODEL_51e71a2d3ae24d7ab65fb574135140d2"
            ],
            "layout": "IPY_MODEL_d3ac6cb20e93471c96459a62af90b49d"
          }
        },
        "8ff32283d9a64cf8a690c633119ace4c": {
          "model_module": "@jupyter-widgets/controls",
          "model_name": "HTMLModel",
          "model_module_version": "1.5.0",
          "state": {
            "_dom_classes": [],
            "_model_module": "@jupyter-widgets/controls",
            "_model_module_version": "1.5.0",
            "_model_name": "HTMLModel",
            "_view_count": null,
            "_view_module": "@jupyter-widgets/controls",
            "_view_module_version": "1.5.0",
            "_view_name": "HTMLView",
            "description": "",
            "description_tooltip": null,
            "layout": "IPY_MODEL_42ba756cc6d743c2882585ee4decb2aa",
            "placeholder": "​",
            "style": "IPY_MODEL_6c8d04ae6e14424881e2cfa208b0d2ee",
            "value": "Loading checkpoint shards: 100%"
          }
        },
        "0b5d199c3e5847b7b9f2457198def09a": {
          "model_module": "@jupyter-widgets/controls",
          "model_name": "FloatProgressModel",
          "model_module_version": "1.5.0",
          "state": {
            "_dom_classes": [],
            "_model_module": "@jupyter-widgets/controls",
            "_model_module_version": "1.5.0",
            "_model_name": "FloatProgressModel",
            "_view_count": null,
            "_view_module": "@jupyter-widgets/controls",
            "_view_module_version": "1.5.0",
            "_view_name": "ProgressView",
            "bar_style": "success",
            "description": "",
            "description_tooltip": null,
            "layout": "IPY_MODEL_1f7a5b5798774523a8d19642a30edaa2",
            "max": 2,
            "min": 0,
            "orientation": "horizontal",
            "style": "IPY_MODEL_03b3b5512d5a4a4993da359448ec5e91",
            "value": 2
          }
        },
        "51e71a2d3ae24d7ab65fb574135140d2": {
          "model_module": "@jupyter-widgets/controls",
          "model_name": "HTMLModel",
          "model_module_version": "1.5.0",
          "state": {
            "_dom_classes": [],
            "_model_module": "@jupyter-widgets/controls",
            "_model_module_version": "1.5.0",
            "_model_name": "HTMLModel",
            "_view_count": null,
            "_view_module": "@jupyter-widgets/controls",
            "_view_module_version": "1.5.0",
            "_view_name": "HTMLView",
            "description": "",
            "description_tooltip": null,
            "layout": "IPY_MODEL_995100f8141a4177a7453b45967305ac",
            "placeholder": "​",
            "style": "IPY_MODEL_7d9dc05c5efb4f89911113321b56fb88",
            "value": " 2/2 [00:14&lt;00:00,  6.00s/it]"
          }
        },
        "d3ac6cb20e93471c96459a62af90b49d": {
          "model_module": "@jupyter-widgets/base",
          "model_name": "LayoutModel",
          "model_module_version": "1.2.0",
          "state": {
            "_model_module": "@jupyter-widgets/base",
            "_model_module_version": "1.2.0",
            "_model_name": "LayoutModel",
            "_view_count": null,
            "_view_module": "@jupyter-widgets/base",
            "_view_module_version": "1.2.0",
            "_view_name": "LayoutView",
            "align_content": null,
            "align_items": null,
            "align_self": null,
            "border": null,
            "bottom": null,
            "display": null,
            "flex": null,
            "flex_flow": null,
            "grid_area": null,
            "grid_auto_columns": null,
            "grid_auto_flow": null,
            "grid_auto_rows": null,
            "grid_column": null,
            "grid_gap": null,
            "grid_row": null,
            "grid_template_areas": null,
            "grid_template_columns": null,
            "grid_template_rows": null,
            "height": null,
            "justify_content": null,
            "justify_items": null,
            "left": null,
            "margin": null,
            "max_height": null,
            "max_width": null,
            "min_height": null,
            "min_width": null,
            "object_fit": null,
            "object_position": null,
            "order": null,
            "overflow": null,
            "overflow_x": null,
            "overflow_y": null,
            "padding": null,
            "right": null,
            "top": null,
            "visibility": null,
            "width": null
          }
        },
        "42ba756cc6d743c2882585ee4decb2aa": {
          "model_module": "@jupyter-widgets/base",
          "model_name": "LayoutModel",
          "model_module_version": "1.2.0",
          "state": {
            "_model_module": "@jupyter-widgets/base",
            "_model_module_version": "1.2.0",
            "_model_name": "LayoutModel",
            "_view_count": null,
            "_view_module": "@jupyter-widgets/base",
            "_view_module_version": "1.2.0",
            "_view_name": "LayoutView",
            "align_content": null,
            "align_items": null,
            "align_self": null,
            "border": null,
            "bottom": null,
            "display": null,
            "flex": null,
            "flex_flow": null,
            "grid_area": null,
            "grid_auto_columns": null,
            "grid_auto_flow": null,
            "grid_auto_rows": null,
            "grid_column": null,
            "grid_gap": null,
            "grid_row": null,
            "grid_template_areas": null,
            "grid_template_columns": null,
            "grid_template_rows": null,
            "height": null,
            "justify_content": null,
            "justify_items": null,
            "left": null,
            "margin": null,
            "max_height": null,
            "max_width": null,
            "min_height": null,
            "min_width": null,
            "object_fit": null,
            "object_position": null,
            "order": null,
            "overflow": null,
            "overflow_x": null,
            "overflow_y": null,
            "padding": null,
            "right": null,
            "top": null,
            "visibility": null,
            "width": null
          }
        },
        "6c8d04ae6e14424881e2cfa208b0d2ee": {
          "model_module": "@jupyter-widgets/controls",
          "model_name": "DescriptionStyleModel",
          "model_module_version": "1.5.0",
          "state": {
            "_model_module": "@jupyter-widgets/controls",
            "_model_module_version": "1.5.0",
            "_model_name": "DescriptionStyleModel",
            "_view_count": null,
            "_view_module": "@jupyter-widgets/base",
            "_view_module_version": "1.2.0",
            "_view_name": "StyleView",
            "description_width": ""
          }
        },
        "1f7a5b5798774523a8d19642a30edaa2": {
          "model_module": "@jupyter-widgets/base",
          "model_name": "LayoutModel",
          "model_module_version": "1.2.0",
          "state": {
            "_model_module": "@jupyter-widgets/base",
            "_model_module_version": "1.2.0",
            "_model_name": "LayoutModel",
            "_view_count": null,
            "_view_module": "@jupyter-widgets/base",
            "_view_module_version": "1.2.0",
            "_view_name": "LayoutView",
            "align_content": null,
            "align_items": null,
            "align_self": null,
            "border": null,
            "bottom": null,
            "display": null,
            "flex": null,
            "flex_flow": null,
            "grid_area": null,
            "grid_auto_columns": null,
            "grid_auto_flow": null,
            "grid_auto_rows": null,
            "grid_column": null,
            "grid_gap": null,
            "grid_row": null,
            "grid_template_areas": null,
            "grid_template_columns": null,
            "grid_template_rows": null,
            "height": null,
            "justify_content": null,
            "justify_items": null,
            "left": null,
            "margin": null,
            "max_height": null,
            "max_width": null,
            "min_height": null,
            "min_width": null,
            "object_fit": null,
            "object_position": null,
            "order": null,
            "overflow": null,
            "overflow_x": null,
            "overflow_y": null,
            "padding": null,
            "right": null,
            "top": null,
            "visibility": null,
            "width": null
          }
        },
        "03b3b5512d5a4a4993da359448ec5e91": {
          "model_module": "@jupyter-widgets/controls",
          "model_name": "ProgressStyleModel",
          "model_module_version": "1.5.0",
          "state": {
            "_model_module": "@jupyter-widgets/controls",
            "_model_module_version": "1.5.0",
            "_model_name": "ProgressStyleModel",
            "_view_count": null,
            "_view_module": "@jupyter-widgets/base",
            "_view_module_version": "1.2.0",
            "_view_name": "StyleView",
            "bar_color": null,
            "description_width": ""
          }
        },
        "995100f8141a4177a7453b45967305ac": {
          "model_module": "@jupyter-widgets/base",
          "model_name": "LayoutModel",
          "model_module_version": "1.2.0",
          "state": {
            "_model_module": "@jupyter-widgets/base",
            "_model_module_version": "1.2.0",
            "_model_name": "LayoutModel",
            "_view_count": null,
            "_view_module": "@jupyter-widgets/base",
            "_view_module_version": "1.2.0",
            "_view_name": "LayoutView",
            "align_content": null,
            "align_items": null,
            "align_self": null,
            "border": null,
            "bottom": null,
            "display": null,
            "flex": null,
            "flex_flow": null,
            "grid_area": null,
            "grid_auto_columns": null,
            "grid_auto_flow": null,
            "grid_auto_rows": null,
            "grid_column": null,
            "grid_gap": null,
            "grid_row": null,
            "grid_template_areas": null,
            "grid_template_columns": null,
            "grid_template_rows": null,
            "height": null,
            "justify_content": null,
            "justify_items": null,
            "left": null,
            "margin": null,
            "max_height": null,
            "max_width": null,
            "min_height": null,
            "min_width": null,
            "object_fit": null,
            "object_position": null,
            "order": null,
            "overflow": null,
            "overflow_x": null,
            "overflow_y": null,
            "padding": null,
            "right": null,
            "top": null,
            "visibility": null,
            "width": null
          }
        },
        "7d9dc05c5efb4f89911113321b56fb88": {
          "model_module": "@jupyter-widgets/controls",
          "model_name": "DescriptionStyleModel",
          "model_module_version": "1.5.0",
          "state": {
            "_model_module": "@jupyter-widgets/controls",
            "_model_module_version": "1.5.0",
            "_model_name": "DescriptionStyleModel",
            "_view_count": null,
            "_view_module": "@jupyter-widgets/base",
            "_view_module_version": "1.2.0",
            "_view_name": "StyleView",
            "description_width": ""
          }
        }
      }
    }
  },
  "cells": [
    {
      "cell_type": "markdown",
      "metadata": {
        "id": "view-in-github",
        "colab_type": "text"
      },
      "source": [
        "<a href=\"https://colab.research.google.com/github/Amirosimani/cache-augmented-generation-gemma/blob/main/cache_aug_generation__gemini.ipynb\" target=\"_parent\"><img src=\"https://colab.research.google.com/assets/colab-badge.svg\" alt=\"Open In Colab\"/></a>"
      ]
    },
    {
      "cell_type": "code",
      "source": [
        "# Copyright 2024 Google LLC\n",
        "#\n",
        "# Licensed under the Apache License, Version 2.0 (the \"License\");\n",
        "# you may not use this file except in compliance with the License.\n",
        "# You may obtain a copy of the License at\n",
        "#\n",
        "#     https://www.apache.org/licenses/LICENSE-2.0\n",
        "#\n",
        "# Unless required by applicable law or agreed to in writing, software\n",
        "# distributed under the License is distributed on an \"AS IS\" BASIS,\n",
        "# WITHOUT WARRANTIES OR CONDITIONS OF ANY KIND, either express or implied.\n",
        "# See the License for the specific language governing permissions and\n",
        "# limitations under the License."
      ],
      "metadata": {
        "id": "cw9SQb85pS02"
      },
      "execution_count": null,
      "outputs": []
    },
    {
      "cell_type": "markdown",
      "source": [
        "\n",
        "|||\n",
        "|----------|-------------|\n",
        "| Author(s)   | amirimani@ |\n",
        "| Last updated | 8/01/2025 |\n",
        "<br><br>\n"
      ],
      "metadata": {
        "id": "1mB9Xc9jpVhl"
      }
    },
    {
      "cell_type": "markdown",
      "source": [
        "# [Don't Do RAG: When Cache-Augmented Generation is All You Need for Knowledge Tasks](https://arxiv.org/abs/2412.15605v1)\n",
        "\n",
        "\n",
        "This paper arguest that by preloading all relevant information into the model's vast context window and using a key-value cache with precomputed inferences, Context-Augmented Generation (CAG) eliminates the need for real-time retrieval in large language models, overcoming the limitations of traditional Retrieval-Augmented Generation.\n",
        "\n",
        "### Concepts\n",
        "**key-value cache**: key-value cache acts as a memory bank for autoregressive generative models, where the model stores key-value pairs derived from self-attention layers for previously processed tokens\n",
        "\n",
        "## Benefits of CAG\n",
        "* Eliminates Real-time Retrieval: Preloads all necessary documents directly into the language model's context.\n",
        "* Boosts Efficiency: Employs a precomputed cache to accelerate response times.\n",
        "* Streamlines Architecture: Removes the need for separate retrieval systems, simplifying the overall process.\n",
        "\n",
        "## Steps:\n",
        "\n",
        "**Preloading External Knowledge:**\n",
        "* preprocess a collection of documents relevant to the application.\n",
        "* Encode these documents into a KV cache, which captures the inference state of the LLM.\n",
        "* Store the KV cache on disk or in memory for reuse during inference.\n",
        "\n",
        "**Inference:**\n",
        "* Load the precomputed KV cache alongside the user’s query.\n",
        "* The LLM processes the query using the preloaded knowledge for contextually accurate responses.\n",
        "  * add a repetition criteria\n",
        "* Combine the user query with the preloaded documents for a unified prompt\n",
        "\n",
        "**Cache Reset:**\n",
        "* Truncate new tokens in the cache without reloading the entire context.\n",
        "\n",
        "\n",
        "## Technical considerations\n",
        "\n",
        "* Quantization: using the HF blog post approach for kv caching [link](https://huggingface.co/blog/kv-cache-quantization#how-to-use-quantized-kv-cache-in-%F0%9F%A4%97-transformers)\n",
        "* Stopping condition: to solve the issue of repetitive output, I added:\n",
        "  - a stopping criteria that terminates generation when encountering a specific pattern, such as a newline or end-of-answer marker.\n",
        "  - Adjusting Decoding Parameters: set repetition_penalty to penalize repeated tokens.\n"
      ],
      "metadata": {
        "id": "ZSEObxT6Y_wE"
      }
    },
    {
      "cell_type": "markdown",
      "source": [
        "**based on your choice of model, use a runtime with GPU**"
      ],
      "metadata": {
        "id": "abpfT4lyYYU-"
      }
    },
    {
      "cell_type": "code",
      "source": [
        "!pip install -U --quiet bitsandbytes accelerate quanto\n",
        "!pip install --quiet transformers"
      ],
      "metadata": {
        "id": "tWh3yE2BQQCh",
        "colab": {
          "base_uri": "https://localhost:8080/"
        },
        "outputId": "29553d8b-ea6c-4004-f339-c8888a7e8fb3"
      },
      "execution_count": null,
      "outputs": [
        {
          "output_type": "stream",
          "name": "stdout",
          "text": [
            "\u001b[2K   \u001b[90m━━━━━━━━━━━━━━━━━━━━━━━━━━━━━━━━━━━━━━━━\u001b[0m \u001b[32m69.1/69.1 MB\u001b[0m \u001b[31m9.6 MB/s\u001b[0m eta \u001b[36m0:00:00\u001b[0m\n",
            "\u001b[2K   \u001b[90m━━━━━━━━━━━━━━━━━━━━━━━━━━━━━━━━━━━━━━━━\u001b[0m \u001b[32m90.0/90.0 kB\u001b[0m \u001b[31m6.7 MB/s\u001b[0m eta \u001b[36m0:00:00\u001b[0m\n",
            "\u001b[2K   \u001b[90m━━━━━━━━━━━━━━━━━━━━━━━━━━━━━━━━━━━━━━━━\u001b[0m \u001b[32m422.9/422.9 kB\u001b[0m \u001b[31m25.2 MB/s\u001b[0m eta \u001b[36m0:00:00\u001b[0m\n",
            "\u001b[?25h"
          ]
        }
      ]
    },
    {
      "cell_type": "code",
      "source": [
        "from transformers import (\n",
        "    PreTrainedModel,\n",
        "    PreTrainedTokenizer,\n",
        "    AutoTokenizer,\n",
        "    AutoModelForCausalLM,\n",
        "    BitsAndBytesConfig,\n",
        "    DynamicCache\n",
        ")\n",
        "import torch\n",
        "\n",
        "import os\n",
        "import pandas as pd\n",
        "from typing import Optional, Union\n",
        "from google.colab import userdata"
      ],
      "metadata": {
        "id": "3ryIjrVZkNw7"
      },
      "execution_count": null,
      "outputs": []
    },
    {
      "cell_type": "markdown",
      "source": [
        "# utility functions"
      ],
      "metadata": {
        "id": "XkikatGIkWOv"
      }
    },
    {
      "cell_type": "code",
      "source": [
        "def generate(\n",
        "    model: PreTrainedModel,\n",
        "    input_ids: torch.Tensor,\n",
        "    past_key_values: Optional[DynamicCache] = None,\n",
        "    max_new_tokens: int = 50,\n",
        "    repetition_penalty: float = 1.0,\n",
        "    stop_token: Optional[str] = None,\n",
        "    tokenizer: Optional[PreTrainedTokenizer] = None,\n",
        "    top_p: float = 0.9,\n",
        "    temperature: float = 1.0\n",
        ") -> torch.Tensor:\n",
        "    \"\"\"\n",
        "    Generate tokens from a model using sampling with past key-value caching.\n",
        "\n",
        "    Args:\n",
        "        model (PreTrainedModel): The language model for generation.\n",
        "        input_ids (torch.Tensor): Input token IDs to begin generation.\n",
        "        past_key_values (Optional[DynamicCache]): Cached key-value pairs for faster inference.\n",
        "        max_new_tokens (int): Maximum number of new tokens to generate.\n",
        "        repetition_penalty (float): Penalty for repeated tokens.\n",
        "        stop_token (Optional[str]): A token to stop generation upon encountering.\n",
        "        tokenizer (Optional[PreTrainedTokenizer]): Tokenizer to decode stop_token.\n",
        "        top_p (float): Probability mass for nucleus sampling.\n",
        "        temperature (float): Sampling temperature.\n",
        "\n",
        "    Returns:\n",
        "        torch.Tensor: The generated tokens excluding the input prompt.\n",
        "    \"\"\"\n",
        "    device = model.device\n",
        "    input_ids = input_ids.to(device)\n",
        "    output_ids = input_ids.clone()\n",
        "    generated_text = \"\" if tokenizer else None\n",
        "\n",
        "    with torch.no_grad():\n",
        "        for _ in range(max_new_tokens):\n",
        "            outputs = model(\n",
        "                input_ids=input_ids,\n",
        "                past_key_values=past_key_values,\n",
        "                use_cache=True,\n",
        "            )\n",
        "            logits = outputs.logits[:, -1, :]\n",
        "\n",
        "            # Apply temperature scaling\n",
        "            logits = logits / temperature\n",
        "\n",
        "            # Apply repetition penalty\n",
        "            if repetition_penalty > 1.0:\n",
        "                for token_id in torch.unique(output_ids):\n",
        "                    logits[:, token_id] /= repetition_penalty\n",
        "\n",
        "            # Apply nucleus sampling\n",
        "            probabilities = torch.softmax(logits, dim=-1)\n",
        "            sorted_probs, sorted_indices = torch.sort(probabilities, descending=True, dim=-1)\n",
        "            cumulative_probs = torch.cumsum(sorted_probs, dim=-1)\n",
        "            sorted_indices_to_remove = cumulative_probs > top_p\n",
        "            sorted_indices_to_remove[:, 1:] = sorted_indices_to_remove[:, :-1].clone()\n",
        "            sorted_indices_to_remove[:, 0] = 0\n",
        "\n",
        "            indices_to_remove = sorted_indices[sorted_indices_to_remove]\n",
        "            probabilities[:, indices_to_remove] = 0\n",
        "            probabilities = probabilities / probabilities.sum(dim=-1, keepdim=True)\n",
        "\n",
        "            next_token = torch.multinomial(probabilities, num_samples=1)\n",
        "            output_ids = torch.cat([output_ids, next_token], dim=-1)\n",
        "            past_key_values = outputs.past_key_values\n",
        "            input_ids = next_token\n",
        "\n",
        "            # Decode if stop_token is specified\n",
        "            if tokenizer and stop_token:\n",
        "                generated_text += tokenizer.decode(next_token[0], skip_special_tokens=True)\n",
        "                if stop_token in generated_text:\n",
        "                    break\n",
        "\n",
        "            # Stop generation if EOS token is encountered\n",
        "            if model.config.eos_token_id is not None and next_token.item() == model.config.eos_token_id:\n",
        "                break\n",
        "\n",
        "    return output_ids[:, input_ids.shape[-1]:]\n",
        "\n",
        "\n",
        "\n",
        "def get_kv_cache(model: PreTrainedModel, tokenizer: PreTrainedTokenizer, prompt: str) -> DynamicCache:\n",
        "    \"\"\"\n",
        "    Generate and return key-value cache for a given prompt.\n",
        "\n",
        "    Args:\n",
        "        model (PreTrainedModel): The language model to use.\n",
        "        tokenizer (PreTrainedTokenizer): Tokenizer to encode the prompt.\n",
        "        prompt (str): The prompt text.\n",
        "\n",
        "    Returns:\n",
        "        DynamicCache: A cache containing key-value tensors for faster inference.\n",
        "    \"\"\"\n",
        "    device = model.model.embed_tokens.weight.device\n",
        "    input_ids = tokenizer(prompt, return_tensors=\"pt\").input_ids.to(device)\n",
        "\n",
        "    cache = DynamicCache()\n",
        "\n",
        "    # Using quantized KV cache\n",
        "    cache_config = {\"backend\": \"quanto\", \"nbits\": 4}\n",
        "    with torch.no_grad():\n",
        "        _ = model(\n",
        "            input_ids=input_ids,\n",
        "            past_key_values=cache,\n",
        "            use_cache=True,\n",
        "            cache_implementation=\"quantized\",\n",
        "            cache_config=cache_config,\n",
        "        )\n",
        "    return cache\n",
        "\n",
        "def clean_up(cache: DynamicCache, origin_len: int):\n",
        "    \"\"\"\n",
        "    Clean up the cache by truncating to the original length.\n",
        "\n",
        "    Args:\n",
        "        cache (DynamicCache): Cache object containing key and value tensors.\n",
        "        origin_len (int): The original sequence length to truncate to.\n",
        "    \"\"\"\n",
        "    for i in range(len(cache.key_cache)):\n",
        "        cache.key_cache[i] = cache.key_cache[i][:, :, :origin_len, :]\n",
        "        cache.value_cache[i] = cache.value_cache[i][:, :, :origin_len, :]"
      ],
      "metadata": {
        "id": "4CRaC3DouLhC"
      },
      "execution_count": null,
      "outputs": []
    },
    {
      "cell_type": "code",
      "source": [
        "model_name = \"google/gemma-2b\"\n",
        "bnb_config = BitsAndBytesConfig(load_in_8bit=True)\n",
        "# bnb_config = BitsAndBytesConfig(\n",
        "#     load_in_4bit=True,\n",
        "#     bnb_4bit_quant_type=\"nf4\",\n",
        "#     bnb_4bit_compute_dtype=torch.float16,\n",
        "# )\n",
        "token = userdata.get('huggingface')\n",
        "\n",
        "tokenizer = AutoTokenizer.from_pretrained(model_name, token=token, trust_remote_code=True)\n",
        "model = AutoModelForCausalLM.from_pretrained(\n",
        "    model_name,\n",
        "    torch_dtype=torch.float16 if torch.cuda.is_available() else torch.float32,\n",
        "    device_map=\"cuda\" if torch.cuda.is_available() else \"cpu\",\n",
        "    trust_remote_code=True,\n",
        "    token=token,\n",
        "    quantization_config=bnb_config,\n",
        ")\n",
        "\n",
        "print(f\"Loaded {model_name}.\")"
      ],
      "metadata": {
        "colab": {
          "base_uri": "https://localhost:8080/",
          "height": 66,
          "referenced_widgets": [
            "03ddc66dced341e5afb5eeb33a16df76",
            "8ff32283d9a64cf8a690c633119ace4c",
            "0b5d199c3e5847b7b9f2457198def09a",
            "51e71a2d3ae24d7ab65fb574135140d2",
            "d3ac6cb20e93471c96459a62af90b49d",
            "42ba756cc6d743c2882585ee4decb2aa",
            "6c8d04ae6e14424881e2cfa208b0d2ee",
            "1f7a5b5798774523a8d19642a30edaa2",
            "03b3b5512d5a4a4993da359448ec5e91",
            "995100f8141a4177a7453b45967305ac",
            "7d9dc05c5efb4f89911113321b56fb88"
          ]
        },
        "id": "dtl8KwBqleeb",
        "outputId": "5f7f77d6-1a29-4bf8-e0ce-b9c5d92970ba"
      },
      "execution_count": null,
      "outputs": [
        {
          "output_type": "display_data",
          "data": {
            "text/plain": [
              "Loading checkpoint shards:   0%|          | 0/2 [00:00<?, ?it/s]"
            ],
            "application/vnd.jupyter.widget-view+json": {
              "version_major": 2,
              "version_minor": 0,
              "model_id": "03ddc66dced341e5afb5eeb33a16df76"
            }
          },
          "metadata": {}
        },
        {
          "output_type": "stream",
          "name": "stdout",
          "text": [
            "Loaded google/gemma-2b.\n"
          ]
        }
      ]
    },
    {
      "cell_type": "code",
      "source": [
        "f_name = \"/content/NYSOMIGExclusionsList.xlsx\"\n",
        "df = pd.read_excel(f_name, engine=\"openpyxl\")\n",
        "text_output = df.to_string(index=False)\n",
        "\n",
        "system_prompt = f\"\"\"\n",
        "<|system|>\n",
        "You are an assistant who provides concise factual answers.\n",
        "<|user|>\n",
        "Context:\n",
        "{text_output[:10000]}\n",
        "Question:\n",
        "\"\"\".strip()"
      ],
      "metadata": {
        "id": "vChXetxMlhKx"
      },
      "execution_count": null,
      "outputs": []
    },
    {
      "cell_type": "code",
      "source": [
        "cache = get_kv_cache(model, tokenizer, system_prompt)\n",
        "print(\"KV cache with quantization built.\")"
      ],
      "metadata": {
        "colab": {
          "base_uri": "https://localhost:8080/"
        },
        "id": "rvu-21OOltDB",
        "outputId": "53daac73-418b-475a-da94-0b1b38330653"
      },
      "execution_count": null,
      "outputs": [
        {
          "output_type": "stream",
          "name": "stdout",
          "text": [
            "KV cache with quantization built.\n"
          ]
        }
      ]
    },
    {
      "cell_type": "code",
      "source": [
        "# Generate answers\n",
        "question = \"What is NPI number for 1 MEDICAL SUPPLIES CORP?\"\n",
        "\n",
        "input_ids_q = tokenizer(question + \"\\n\", return_tensors=\"pt\").input_ids.to(model.device)\n",
        "gen_ids_q = generate(\n",
        "    model,\n",
        "    input_ids_q,\n",
        "    past_key_values=cache,\n",
        "    max_new_tokens=50,\n",
        "    repetition_penalty=1.0,\n",
        "    stop_token=None,\n",
        "    tokenizer=tokenizer,\n",
        "    top_p=0.9,\n",
        "    temperature=0.8\n",
        ")\n",
        "answer = tokenizer.decode(gen_ids_q[0], skip_special_tokens=True)\n",
        "\n",
        "\n",
        "print(\"Q:\", question)\n",
        "print(\"A:\", answer)"
      ],
      "metadata": {
        "colab": {
          "base_uri": "https://localhost:8080/"
        },
        "id": "eI_oFoT7l1VT",
        "outputId": "50fb010c-6030-48de-aade-3f57a5ed4def"
      },
      "execution_count": null,
      "outputs": [
        {
          "output_type": "stream",
          "name": "stdout",
          "text": [
            "Q: What is NPI number for 1 MEDICAL SUPPLIES CORP?\n",
            "A: What is NPI number for 1 MEDICAL SUPPLIES CORP?\n",
            "Answer: 1407487887\n",
            "\n"
          ]
        }
      ]
    },
    {
      "cell_type": "markdown",
      "source": [
        "# Chat interfrace"
      ],
      "metadata": {
        "id": "Kwjy35D5YwlJ"
      }
    },
    {
      "cell_type": "code",
      "source": [
        "# !pip install --quiet langchain"
      ],
      "metadata": {
        "id": "sseitLT4YvG2"
      },
      "execution_count": null,
      "outputs": []
    },
    {
      "cell_type": "code",
      "source": [
        "# from langchain.llms.base import LLM\n",
        "# from typing import Optional, List, Any\n",
        "\n",
        "# class CustomLLM(LLM):\n",
        "#     def __init__(self, model: Any, tokenizer: Any, cache: Any, **kwargs):\n",
        "#         super().__init__(**kwargs)\n",
        "#         self._model = model  # Use private attributes to bypass pydantic validation\n",
        "#         self._tokenizer = tokenizer\n",
        "#         self._cache = cache\n",
        "\n",
        "#     @property\n",
        "#     def _llm_type(self) -> str:\n",
        "#         return \"custom_llm\"\n",
        "\n",
        "#     def _call(self, prompt: str, stop: Optional[List[str]] = None) -> str:\n",
        "#         # Tokenize the input\n",
        "#         input_ids = self._tokenizer(prompt, return_tensors=\"pt\").input_ids.to(self._model.device)\n",
        "\n",
        "#         # Generate response\n",
        "#         gen_ids = generate(self._model, input_ids, past_key_values=self._cache)\n",
        "\n",
        "#         # Decode output\n",
        "#         response = self._tokenizer.decode(gen_ids[0], skip_special_tokens=True)\n",
        "\n",
        "#         # Apply stop tokens if provided\n",
        "#         if stop:\n",
        "#             for stop_token in stop:\n",
        "#                 response = response.split(stop_token)[0]\n",
        "#         return response\n"
      ],
      "metadata": {
        "id": "fxQLogQMxBpD"
      },
      "execution_count": null,
      "outputs": []
    },
    {
      "cell_type": "code",
      "source": [
        "# # Instantiate the LLM\n",
        "# custom_llm = CustomLLM(model=model, tokenizer=tokenizer, cache=cache)\n",
        "\n",
        "# # Create the LLMChain\n",
        "# llm_chain = LLMChain(prompt=prompt, llm=custom_llm)\n",
        "\n",
        "# # Chat loop\n",
        "# context = text_output[:10000]\n",
        "# while True:\n",
        "#     user_question = input(\"You: \")\n",
        "#     if user_question.lower() == \"exit\":\n",
        "#         break\n",
        "#     response = llm_chain.run(context=context, question=user_question)\n",
        "#     print(f\"Assistant: {response}\")"
      ],
      "metadata": {
        "colab": {
          "base_uri": "https://localhost:8080/",
          "height": 1000
        },
        "id": "MxpnHA_wxcWl",
        "outputId": "d7954aa7-350b-469c-f973-4f89a6266a6c"
      },
      "execution_count": null,
      "outputs": [
        {
          "output_type": "stream",
          "name": "stderr",
          "text": [
            "<ipython-input-27-0b9ddbbb0894>:5: LangChainDeprecationWarning: The class `LLMChain` was deprecated in LangChain 0.1.17 and will be removed in 1.0. Use :meth:`~RunnableSequence, e.g., `prompt | llm`` instead.\n",
            "  llm_chain = LLMChain(prompt=prompt, llm=custom_llm)\n"
          ]
        },
        {
          "name": "stdout",
          "output_type": "stream",
          "text": [
            "You: What is NPI number for 1 MEDICAL SUPPLIES CORP?\n"
          ]
        },
        {
          "output_type": "stream",
          "name": "stderr",
          "text": [
            "<ipython-input-27-0b9ddbbb0894>:13: LangChainDeprecationWarning: The method `Chain.run` was deprecated in langchain 0.1.0 and will be removed in 1.0. Use :meth:`~invoke` instead.\n",
            "  response = llm_chain.run(context=context, question=user_question)\n"
          ]
        },
        {
          "output_type": "stream",
          "name": "stdout",
          "text": [
            "Assistant: <|system|>\n",
            "You are an assistant who provides concise factual answers based on the context.\n",
            "<|user|>\n",
            "Context:\n",
            "                                                                      provider_name                   license_num    npi_num                                     provider_type exclusion_effective_date\n",
            "                                                         #1 MARKETING SERVICE, INC.                           NaN        NaN                                 Marketing Service               07/26/2016\n",
            "                                                            1 MEDICAL SUPPLIES CORP                           NaN 1407487887                            DME & Medical Supplier               04/21/2022\n",
            "                                                  1 STOP PHARMACY AND FOOD MART INC                      00028701 1275716979                                          Pharmacy               02/03/2009\n",
            "                                     101 FIRST CARE PHARMACY INC AKA/DBA MI CASA RX                      00032914 1972902351                                          Pharmacy               05/12/2019\n",
            "                                                      14 LAWRENCE AVE PHARMACY CORP                      00016123        NaN                                          Pharmacy               08/31/1988\n",
            "                                                           149 BALLSTON AVENUE, LLC                           NaN        NaN                                          Business               02/27/2023\n",
            "                                                      149 EAST PHARMACY         INC                      00018340        NaN                                          Pharmacy               01/15/1992\n",
            "                                                      1491 DEKALB AVE PHARMACY  INC                      00018542        NaN                                          Pharmacy               07/13/1992\n",
            "                                                      168TH STREET DRUGS        INC                      00017963        NaN                                          Pharmacy               10/27/1992\n",
            "                                      1756 PHARMACY  INC AKA/DBA DRUG RICH PHARMACY                      00017558 1568408946                                          Pharmacy               08/31/2020\n",
            "                                                             184TH ST PHARMACY CORP                      00031663 1922348218                                          Pharmacy               04/16/2014\n",
            "                                                      195 5 AVE FARMACIA        INC                      00016514        NaN                                          Pharmacy               08/18/1998\n",
            "                                                       1951 FLATBUSH AVE PHARM CORP                      00016936 1598935223                                          Pharmacy               10/02/2008\n",
            "                                                         2001 BATH AVE PHARMACY INC                      00027339        NaN                                          Pharmacy               07/15/2006\n",
            "                                                      203 WEST 231 STREET PHMCY INC                      00017620        NaN                                          Pharmacy               10/20/1998\n",
            "                                                      2201 BROADWAY             INC                      00014503        NaN                                          Pharmacy               10/05/1992\n",
            "                                                                  2258 PHARMACY INC                      00024517        NaN                                          Pharmacy               07/10/2003\n",
            "                                                      227 NINTH AVENUE PHARMACY INC                      00017646        NaN                                          Pharmacy               09/03/1997\n",
            "                                                            306 SUMNER PHARMACY INC                           NaN        NaN                                          Pharmacy               12/15/1992\n",
            "                                                      343 DRUG MART             INC                      00018348        NaN                                          Pharmacy               02/08/2010\n",
            "                                                      3839 PHARMACY             INC                      00017274        NaN                                          Pharmacy               07/04/1991\n",
            "                                                      3890 BROADWAY PHARMACY IV INC                      00027458        NaN                                          Pharmacy               08/13/2008\n",
            "                                                          623 TREMONT AVE DRUG CORP                      OC021644        NaN                                          Pharmacy               09/26/2019\n",
            "                                                                   668 MTK TAXI LLC                           NaN        NaN                                    Transportation               09/01/2024\n",
            "                                                      67 EAST BURNSIDE PHARMACY INC                      00018793        NaN                                          Pharmacy               04/28/1992\n",
            "                                                      701 PHARMACY             CORP                      00019015        NaN                                          Pharmacy               08/29/1991\n",
            "                                                                 716 TRANSPORTATION                           NaN        NaN                                    Transportation               10/24/2018\n",
            "                                                       764 FRANKLIN AVENUE PHARMACY                      00010439        NaN                                          Pharmacy               12/29/1991\n",
            "                                                      78-20 PHARMACY            INC                      00012847        NaN                                          Pharmacy               10/05/1992\n",
            "                                                         83-01 37TH AVE CORPORATION                      00020257        NaN                                          Pharmacy               02/09/1998\n",
            "                                                                    88 PHARMACY INC                           NaN 1518404623                                          Pharmacy               09/26/2024\n",
            "                                                      882 EAST 180TH ST DRUG   CORP                      00017410        NaN                                          Pharmacy               09/02/1992\n",
            "                                                                   888 PHARMACY INC                      00031840 1417297698                                          Pharmacy               07/19/2023\n",
            "                                                            A & H LEE PHARMACY  INC                      00017555        NaN                                          Pharmacy               07/05/2001\n",
            "                                                        A & H Vitamins Supply Corp.                           NaN        NaN                                          Pharmacy               01/04/2015\n",
            "                                                                     A & M CARE INC                           NaN        NaN                         Home Health Care Business               06/29/1996\n",
            "                                                                A AND I HEALTH AIDS                           NaN        NaN                                      DME Business               10/03/1994\n",
            "                                                             A AND O MEDICAL SUPPLY                           NaN 1689913360                          Medical Appliance Dealer               09/07/2017\n",
            "                                                                  A C PHARMACY CORP                      00029012 1770733388                                          Pharmacy               10/05/2023\n",
            "                                                           A FAIR DEAL PHARMACY INC                      00021884 1619913571                                          Pharmacy               04/21/2014\n",
            "                                        A STAR PHARMACY INC AKA/DBA A STAR PHARMACY                      00034421 1255792263                                          Pharmacy               08/30/2023\n",
            "                                                                   A&D PHARMACY INC                      00019859        NaN                                          Pharmacy               02/08/1993\n",
            "                                                                 A&N TRANSPORTATION                           NaN        NaN                            Transportation Company               10/09/2017\n",
            "                                                             A&Y MEDICAL SUPPLY INC                           NaN 1942476080                                      DME Business               05/18/2017\n",
            "                                                                  A-I CARE TAXI INC                           NaN        NaN                                    Transportation               07/08/2018\n",
            "                                                                   A1 CLASS CAR INC                           NaN        NaN                                    Transportation               10/02/2024\n",
            "                              AAA MEDICAL PC AKA/DBA MULTI-SPECIALTY MEDICAL CLINIC                           NaN        NaN                                    Medical Clinic               03/24/2021\n",
            "                                                            AARON AMBULETTE SERVICE                      0000P11Q        NaN                           Transportation Business               02/13/1992\n",
            "                                                      AARON AMBULETTE&TRANS SVC INC                      00B90215        NaN                           Transportation Business               03/01/1992\n",
            "\n",
            "Question:\n",
            "What is NPI number for 1 MEDICAL SUPPLIES CORP?\n",
            "Answer:\n",
            "    1. 1407487887\n",
            "    2. 1407487887\n",
            "    3. 1407487887\n",
            "    \n",
            "You: what type of provider is it?\n",
            "Assistant: <|system|>\n",
            "You are an assistant who provides concise factual answers based on the context.\n",
            "<|user|>\n",
            "Context:\n",
            "                                                                      provider_name                   license_num    npi_num                                     provider_type exclusion_effective_date\n",
            "                                                         #1 MARKETING SERVICE, INC.                           NaN        NaN                                 Marketing Service               07/26/2016\n",
            "                                                            1 MEDICAL SUPPLIES CORP                           NaN 1407487887                            DME & Medical Supplier               04/21/2022\n",
            "                                                  1 STOP PHARMACY AND FOOD MART INC                      00028701 1275716979                                          Pharmacy               02/03/2009\n",
            "                                     101 FIRST CARE PHARMACY INC AKA/DBA MI CASA RX                      00032914 1972902351                                          Pharmacy               05/12/2019\n",
            "                                                      14 LAWRENCE AVE PHARMACY CORP                      00016123        NaN                                          Pharmacy               08/31/1988\n",
            "                                                           149 BALLSTON AVENUE, LLC                           NaN        NaN                                          Business               02/27/2023\n",
            "                                                      149 EAST PHARMACY         INC                      00018340        NaN                                          Pharmacy               01/15/1992\n",
            "                                                      1491 DEKALB AVE PHARMACY  INC                      00018542        NaN                                          Pharmacy               07/13/1992\n",
            "                                                      168TH STREET DRUGS        INC                      00017963        NaN                                          Pharmacy               10/27/1992\n",
            "                                      1756 PHARMACY  INC AKA/DBA DRUG RICH PHARMACY                      00017558 1568408946                                          Pharmacy               08/31/2020\n",
            "                                                             184TH ST PHARMACY CORP                      00031663 1922348218                                          Pharmacy               04/16/2014\n",
            "                                                      195 5 AVE FARMACIA        INC                      00016514        NaN                                          Pharmacy               08/18/1998\n",
            "                                                       1951 FLATBUSH AVE PHARM CORP                      00016936 1598935223                                          Pharmacy               10/02/2008\n",
            "                                                         2001 BATH AVE PHARMACY INC                      00027339        NaN                                          Pharmacy               07/15/2006\n",
            "                                                      203 WEST 231 STREET PHMCY INC                      00017620        NaN                                          Pharmacy               10/20/1998\n",
            "                                                      2201 BROADWAY             INC                      00014503        NaN                                          Pharmacy               10/05/1992\n",
            "                                                                  2258 PHARMACY INC                      00024517        NaN                                          Pharmacy               07/10/2003\n",
            "                                                      227 NINTH AVENUE PHARMACY INC                      00017646        NaN                                          Pharmacy               09/03/1997\n",
            "                                                            306 SUMNER PHARMACY INC                           NaN        NaN                                          Pharmacy               12/15/1992\n",
            "                                                      343 DRUG MART             INC                      00018348        NaN                                          Pharmacy               02/08/2010\n",
            "                                                      3839 PHARMACY             INC                      00017274        NaN                                          Pharmacy               07/04/1991\n",
            "                                                      3890 BROADWAY PHARMACY IV INC                      00027458        NaN                                          Pharmacy               08/13/2008\n",
            "                                                          623 TREMONT AVE DRUG CORP                      OC021644        NaN                                          Pharmacy               09/26/2019\n",
            "                                                                   668 MTK TAXI LLC                           NaN        NaN                                    Transportation               09/01/2024\n",
            "                                                      67 EAST BURNSIDE PHARMACY INC                      00018793        NaN                                          Pharmacy               04/28/1992\n",
            "                                                      701 PHARMACY             CORP                      00019015        NaN                                          Pharmacy               08/29/1991\n",
            "                                                                 716 TRANSPORTATION                           NaN        NaN                                    Transportation               10/24/2018\n",
            "                                                       764 FRANKLIN AVENUE PHARMACY                      00010439        NaN                                          Pharmacy               12/29/1991\n",
            "                                                      78-20 PHARMACY            INC                      00012847        NaN                                          Pharmacy               10/05/1992\n",
            "                                                         83-01 37TH AVE CORPORATION                      00020257        NaN                                          Pharmacy               02/09/1998\n",
            "                                                                    88 PHARMACY INC                           NaN 1518404623                                          Pharmacy               09/26/2024\n",
            "                                                      882 EAST 180TH ST DRUG   CORP                      00017410        NaN                                          Pharmacy               09/02/1992\n",
            "                                                                   888 PHARMACY INC                      00031840 1417297698                                          Pharmacy               07/19/2023\n",
            "                                                            A & H LEE PHARMACY  INC                      00017555        NaN                                          Pharmacy               07/05/2001\n",
            "                                                        A & H Vitamins Supply Corp.                           NaN        NaN                                          Pharmacy               01/04/2015\n",
            "                                                                     A & M CARE INC                           NaN        NaN                         Home Health Care Business               06/29/1996\n",
            "                                                                A AND I HEALTH AIDS                           NaN        NaN                                      DME Business               10/03/1994\n",
            "                                                             A AND O MEDICAL SUPPLY                           NaN 1689913360                          Medical Appliance Dealer               09/07/2017\n",
            "                                                                  A C PHARMACY CORP                      00029012 1770733388                                          Pharmacy               10/05/2023\n",
            "                                                           A FAIR DEAL PHARMACY INC                      00021884 1619913571                                          Pharmacy               04/21/2014\n",
            "                                        A STAR PHARMACY INC AKA/DBA A STAR PHARMACY                      00034421 1255792263                                          Pharmacy               08/30/2023\n",
            "                                                                   A&D PHARMACY INC                      00019859        NaN                                          Pharmacy               02/08/1993\n",
            "                                                                 A&N TRANSPORTATION                           NaN        NaN                            Transportation Company               10/09/2017\n",
            "                                                             A&Y MEDICAL SUPPLY INC                           NaN 1942476080                                      DME Business               05/18/2017\n",
            "                                                                  A-I CARE TAXI INC                           NaN        NaN                                    Transportation               07/08/2018\n",
            "                                                                   A1 CLASS CAR INC                           NaN        NaN                                    Transportation               10/02/2024\n",
            "                              AAA MEDICAL PC AKA/DBA MULTI-SPECIALTY MEDICAL CLINIC                           NaN        NaN                                    Medical Clinic               03/24/2021\n",
            "                                                            AARON AMBULETTE SERVICE                      0000P11Q        NaN                           Transportation Business               02/13/1992\n",
            "                                                      AARON AMBULETTE&TRANS SVC INC                      00B90215        NaN                           Transportation Business               03/01/1992\n",
            "\n",
            "Question:\n",
            "what type of provider is it?00999999999999999999999999999999999999999999999999\n"
          ]
        },
        {
          "output_type": "error",
          "ename": "KeyboardInterrupt",
          "evalue": "Interrupted by user",
          "traceback": [
            "\u001b[0;31m---------------------------------------------------------------------------\u001b[0m",
            "\u001b[0;31mKeyboardInterrupt\u001b[0m                         Traceback (most recent call last)",
            "\u001b[0;32m<ipython-input-27-0b9ddbbb0894>\u001b[0m in \u001b[0;36m<cell line: 9>\u001b[0;34m()\u001b[0m\n\u001b[1;32m      8\u001b[0m \u001b[0mcontext\u001b[0m \u001b[0;34m=\u001b[0m \u001b[0mtext_output\u001b[0m\u001b[0;34m[\u001b[0m\u001b[0;34m:\u001b[0m\u001b[0;36m10000\u001b[0m\u001b[0;34m]\u001b[0m\u001b[0;34m\u001b[0m\u001b[0;34m\u001b[0m\u001b[0m\n\u001b[1;32m      9\u001b[0m \u001b[0;32mwhile\u001b[0m \u001b[0;32mTrue\u001b[0m\u001b[0;34m:\u001b[0m\u001b[0;34m\u001b[0m\u001b[0;34m\u001b[0m\u001b[0m\n\u001b[0;32m---> 10\u001b[0;31m     \u001b[0muser_question\u001b[0m \u001b[0;34m=\u001b[0m \u001b[0minput\u001b[0m\u001b[0;34m(\u001b[0m\u001b[0;34m\"You: \"\u001b[0m\u001b[0;34m)\u001b[0m\u001b[0;34m\u001b[0m\u001b[0;34m\u001b[0m\u001b[0m\n\u001b[0m\u001b[1;32m     11\u001b[0m     \u001b[0;32mif\u001b[0m \u001b[0muser_question\u001b[0m\u001b[0;34m.\u001b[0m\u001b[0mlower\u001b[0m\u001b[0;34m(\u001b[0m\u001b[0;34m)\u001b[0m \u001b[0;34m==\u001b[0m \u001b[0;34m\"exit\"\u001b[0m\u001b[0;34m:\u001b[0m\u001b[0;34m\u001b[0m\u001b[0;34m\u001b[0m\u001b[0m\n\u001b[1;32m     12\u001b[0m         \u001b[0;32mbreak\u001b[0m\u001b[0;34m\u001b[0m\u001b[0;34m\u001b[0m\u001b[0m\n",
            "\u001b[0;32m/usr/local/lib/python3.10/dist-packages/ipykernel/kernelbase.py\u001b[0m in \u001b[0;36mraw_input\u001b[0;34m(self, prompt)\u001b[0m\n\u001b[1;32m    849\u001b[0m                 \u001b[0;34m\"raw_input was called, but this frontend does not support input requests.\"\u001b[0m\u001b[0;34m\u001b[0m\u001b[0;34m\u001b[0m\u001b[0m\n\u001b[1;32m    850\u001b[0m             )\n\u001b[0;32m--> 851\u001b[0;31m         return self._input_request(str(prompt),\n\u001b[0m\u001b[1;32m    852\u001b[0m             \u001b[0mself\u001b[0m\u001b[0;34m.\u001b[0m\u001b[0m_parent_ident\u001b[0m\u001b[0;34m,\u001b[0m\u001b[0;34m\u001b[0m\u001b[0;34m\u001b[0m\u001b[0m\n\u001b[1;32m    853\u001b[0m             \u001b[0mself\u001b[0m\u001b[0;34m.\u001b[0m\u001b[0m_parent_header\u001b[0m\u001b[0;34m,\u001b[0m\u001b[0;34m\u001b[0m\u001b[0;34m\u001b[0m\u001b[0m\n",
            "\u001b[0;32m/usr/local/lib/python3.10/dist-packages/ipykernel/kernelbase.py\u001b[0m in \u001b[0;36m_input_request\u001b[0;34m(self, prompt, ident, parent, password)\u001b[0m\n\u001b[1;32m    893\u001b[0m             \u001b[0;32mexcept\u001b[0m \u001b[0mKeyboardInterrupt\u001b[0m\u001b[0;34m:\u001b[0m\u001b[0;34m\u001b[0m\u001b[0;34m\u001b[0m\u001b[0m\n\u001b[1;32m    894\u001b[0m                 \u001b[0;31m# re-raise KeyboardInterrupt, to truncate traceback\u001b[0m\u001b[0;34m\u001b[0m\u001b[0;34m\u001b[0m\u001b[0m\n\u001b[0;32m--> 895\u001b[0;31m                 \u001b[0;32mraise\u001b[0m \u001b[0mKeyboardInterrupt\u001b[0m\u001b[0;34m(\u001b[0m\u001b[0;34m\"Interrupted by user\"\u001b[0m\u001b[0;34m)\u001b[0m \u001b[0;32mfrom\u001b[0m \u001b[0;32mNone\u001b[0m\u001b[0;34m\u001b[0m\u001b[0;34m\u001b[0m\u001b[0m\n\u001b[0m\u001b[1;32m    896\u001b[0m             \u001b[0;32mexcept\u001b[0m \u001b[0mException\u001b[0m \u001b[0;32mas\u001b[0m \u001b[0me\u001b[0m\u001b[0;34m:\u001b[0m\u001b[0;34m\u001b[0m\u001b[0;34m\u001b[0m\u001b[0m\n\u001b[1;32m    897\u001b[0m                 \u001b[0mself\u001b[0m\u001b[0;34m.\u001b[0m\u001b[0mlog\u001b[0m\u001b[0;34m.\u001b[0m\u001b[0mwarning\u001b[0m\u001b[0;34m(\u001b[0m\u001b[0;34m\"Invalid Message:\"\u001b[0m\u001b[0;34m,\u001b[0m \u001b[0mexc_info\u001b[0m\u001b[0;34m=\u001b[0m\u001b[0;32mTrue\u001b[0m\u001b[0;34m)\u001b[0m\u001b[0;34m\u001b[0m\u001b[0;34m\u001b[0m\u001b[0m\n",
            "\u001b[0;31mKeyboardInterrupt\u001b[0m: Interrupted by user"
          ]
        }
      ]
    },
    {
      "cell_type": "code",
      "source": [],
      "metadata": {
        "id": "eCZ4yPGpxhPd"
      },
      "execution_count": null,
      "outputs": []
    }
  ]
}